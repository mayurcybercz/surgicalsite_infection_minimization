{
 "cells": [
  {
   "cell_type": "code",
   "execution_count": 1,
   "metadata": {
    "colab": {
     "base_uri": "https://localhost:8080/"
    },
    "id": "WKloJ1IQZ1qS",
    "outputId": "018a9872-4a3e-4fe2-e19d-1490502bad73"
   },
   "outputs": [
    {
     "name": "stdout",
     "output_type": "stream",
     "text": [
      "        Year       State       County                             HAI  \\\n",
      "0     2020H1  California          NaN  Surgical Site Infections (SSI)   \n",
      "1     2020H1  California          NaN  Surgical Site Infections (SSI)   \n",
      "2     2020H1  California          NaN  Surgical Site Infections (SSI)   \n",
      "3     2020H1  California          NaN  Surgical Site Infections (SSI)   \n",
      "4     2020H1  California          NaN  Surgical Site Infections (SSI)   \n",
      "...      ...         ...          ...                             ...   \n",
      "5730  2020H1  California  Los Angeles  Surgical Site Infections (SSI)   \n",
      "5731  2020H1  California  Los Angeles  Surgical Site Infections (SSI)   \n",
      "5732  2020H1  California  Los Angeles  Surgical Site Infections (SSI)   \n",
      "5733  2020H1  California  Los Angeles  Surgical Site Infections (SSI)   \n",
      "5734  2020H1  California  Los Angeles  Surgical Site Infections (SSI)   \n",
      "\n",
      "                                    Operative_Procedure  Facility_ID  \\\n",
      "0                       STATE OF CALIFORNIA POOLED DATA          NaN   \n",
      "1     STATE OF CALIFORNIA POOLED DATA - Abdominal ao...          NaN   \n",
      "2     STATE OF CALIFORNIA POOLED DATA - Appendix sur...          NaN   \n",
      "3     STATE OF CALIFORNIA POOLED DATA - Bile duct, l...          NaN   \n",
      "4     STATE OF CALIFORNIA POOLED DATA - Cardiac surgery          NaN   \n",
      "...                                                 ...          ...   \n",
      "5730                                Gallbladder surgery  930001709.0   \n",
      "5731                            Hysterectomy, abdominal  930001709.0   \n",
      "5732                         Open reduction of fracture  930001709.0   \n",
      "5733                                    Ovarian surgery  930001709.0   \n",
      "5734                                   Thoracic surgery  930001709.0   \n",
      "\n",
      "                                          Facility_Name  \\\n",
      "0                                                   NaN   \n",
      "1                                                   NaN   \n",
      "2                                                   NaN   \n",
      "3                                                   NaN   \n",
      "4                                                   NaN   \n",
      "...                                                 ...   \n",
      "5730  MemorialCare Miller Children's & Women's Hospi...   \n",
      "5731  MemorialCare Miller Children's & Women's Hospi...   \n",
      "5732  MemorialCare Miller Children's & Women's Hospi...   \n",
      "5733  MemorialCare Miller Children's & Women's Hospi...   \n",
      "5734  MemorialCare Miller Children's & Women's Hospi...   \n",
      "\n",
      "     Hospital_Category_RiskAdjustment Facility_Type  Procedure_Count  \\\n",
      "0                                 NaN           NaN           262192   \n",
      "1                                 NaN           NaN              177   \n",
      "2                                 NaN           NaN            11954   \n",
      "3                                 NaN           NaN             3479   \n",
      "4                                 NaN           NaN             5038   \n",
      "...                               ...           ...              ...   \n",
      "5730              Acute Care Hospital     Pediatric                1   \n",
      "5731              Acute Care Hospital     Pediatric                4   \n",
      "5732              Acute Care Hospital     Pediatric                1   \n",
      "5733              Acute Care Hospital     Pediatric                5   \n",
      "5734              Acute Care Hospital     Pediatric                1   \n",
      "\n",
      "      Infections_Reported  Infections_Predicted  \n",
      "0                    1343               1735.29  \n",
      "1                       0                  1.20  \n",
      "2                      28                 48.23  \n",
      "3                      92                101.50  \n",
      "4                      22                 20.12  \n",
      "...                   ...                   ...  \n",
      "5730                    0                  0.00  \n",
      "5731                    0                  0.04  \n",
      "5732                    1                  0.01  \n",
      "5733                    0                  0.00  \n",
      "5734                    0                  0.00  \n",
      "\n",
      "[5735 rows x 12 columns]\n"
     ]
    }
   ],
   "source": [
    "import pandas as pd\n",
    "\n",
    "df = pd.read_csv (r'https://data.chhs.ca.gov/dataset/f243090b-4c05-4c61-b614-7cb49b86b21d/resource/e6828e3c-bf54-4991-865b-b4cc11719b8d/download/cdph_ssi_adult_odp_2020h1.csv')\n",
    "print (df)"
   ]
  },
  {
   "cell_type": "code",
   "execution_count": 2,
   "metadata": {},
   "outputs": [
    {
     "data": {
      "text/plain": [
       "(5735, 12)"
      ]
     },
     "execution_count": 2,
     "metadata": {},
     "output_type": "execute_result"
    }
   ],
   "source": [
    "df.shape"
   ]
  },
  {
   "cell_type": "code",
   "execution_count": 7,
   "metadata": {},
   "outputs": [],
   "source": [
    "df=df.dropna()"
   ]
  },
  {
   "cell_type": "code",
   "execution_count": 33,
   "metadata": {},
   "outputs": [],
   "source": [
    "facilities = df.groupby(['Facility_Name'])[['Procedure_Count','Infections_Reported','Infections_Predicted']].sum()"
   ]
  },
  {
   "cell_type": "code",
   "execution_count": 38,
   "metadata": {},
   "outputs": [
    {
     "data": {
      "text/html": [
       "<div>\n",
       "<style scoped>\n",
       "    .dataframe tbody tr th:only-of-type {\n",
       "        vertical-align: middle;\n",
       "    }\n",
       "\n",
       "    .dataframe tbody tr th {\n",
       "        vertical-align: top;\n",
       "    }\n",
       "\n",
       "    .dataframe thead th {\n",
       "        text-align: right;\n",
       "    }\n",
       "</style>\n",
       "<table border=\"1\" class=\"dataframe\">\n",
       "  <thead>\n",
       "    <tr style=\"text-align: right;\">\n",
       "      <th></th>\n",
       "      <th>Procedure_Count</th>\n",
       "      <th>Infections_Reported</th>\n",
       "      <th>Infections_Predicted</th>\n",
       "    </tr>\n",
       "    <tr>\n",
       "      <th>Facility_Name</th>\n",
       "      <th></th>\n",
       "      <th></th>\n",
       "      <th></th>\n",
       "    </tr>\n",
       "  </thead>\n",
       "  <tbody>\n",
       "    <tr>\n",
       "      <th>AHMC Anaheim Regional Medical Center</th>\n",
       "      <td>1064</td>\n",
       "      <td>2</td>\n",
       "      <td>4.64</td>\n",
       "    </tr>\n",
       "    <tr>\n",
       "      <th>AHMC Seton Medical Center</th>\n",
       "      <td>394</td>\n",
       "      <td>2</td>\n",
       "      <td>2.16</td>\n",
       "    </tr>\n",
       "    <tr>\n",
       "      <th>Adventist Health Clearlake</th>\n",
       "      <td>138</td>\n",
       "      <td>0</td>\n",
       "      <td>0.64</td>\n",
       "    </tr>\n",
       "    <tr>\n",
       "      <th>Adventist Health Mendocino Coast</th>\n",
       "      <td>72</td>\n",
       "      <td>0</td>\n",
       "      <td>0.49</td>\n",
       "    </tr>\n",
       "    <tr>\n",
       "      <th>Adventist Health Simi Valley</th>\n",
       "      <td>524</td>\n",
       "      <td>0</td>\n",
       "      <td>2.60</td>\n",
       "    </tr>\n",
       "  </tbody>\n",
       "</table>\n",
       "</div>"
      ],
      "text/plain": [
       "                                      Procedure_Count  Infections_Reported  \\\n",
       "Facility_Name                                                                \n",
       "AHMC Anaheim Regional Medical Center             1064                    2   \n",
       "AHMC Seton Medical Center                         394                    2   \n",
       "Adventist Health Clearlake                        138                    0   \n",
       "Adventist Health Mendocino Coast                   72                    0   \n",
       "Adventist Health Simi Valley                      524                    0   \n",
       "\n",
       "                                      Infections_Predicted  \n",
       "Facility_Name                                               \n",
       "AHMC Anaheim Regional Medical Center                  4.64  \n",
       "AHMC Seton Medical Center                             2.16  \n",
       "Adventist Health Clearlake                            0.64  \n",
       "Adventist Health Mendocino Coast                      0.49  \n",
       "Adventist Health Simi Valley                          2.60  "
      ]
     },
     "execution_count": 38,
     "metadata": {},
     "output_type": "execute_result"
    }
   ],
   "source": [
    "facilities.head()"
   ]
  },
  {
   "cell_type": "code",
   "execution_count": 47,
   "metadata": {},
   "outputs": [],
   "source": [
    "facilities['infection_ratio']=facilities['Infections_Reported']/facilities['Procedure_Count']"
   ]
  },
  {
   "cell_type": "code",
   "execution_count": 48,
   "metadata": {},
   "outputs": [
    {
     "data": {
      "text/html": [
       "<div>\n",
       "<style scoped>\n",
       "    .dataframe tbody tr th:only-of-type {\n",
       "        vertical-align: middle;\n",
       "    }\n",
       "\n",
       "    .dataframe tbody tr th {\n",
       "        vertical-align: top;\n",
       "    }\n",
       "\n",
       "    .dataframe thead th {\n",
       "        text-align: right;\n",
       "    }\n",
       "</style>\n",
       "<table border=\"1\" class=\"dataframe\">\n",
       "  <thead>\n",
       "    <tr style=\"text-align: right;\">\n",
       "      <th></th>\n",
       "      <th>Procedure_Count</th>\n",
       "      <th>Infections_Reported</th>\n",
       "      <th>Infections_Predicted</th>\n",
       "      <th>infection_ratio</th>\n",
       "    </tr>\n",
       "    <tr>\n",
       "      <th>Facility_Name</th>\n",
       "      <th></th>\n",
       "      <th></th>\n",
       "      <th></th>\n",
       "      <th></th>\n",
       "    </tr>\n",
       "  </thead>\n",
       "  <tbody>\n",
       "    <tr>\n",
       "      <th>AHMC Anaheim Regional Medical Center</th>\n",
       "      <td>1064</td>\n",
       "      <td>2</td>\n",
       "      <td>4.64</td>\n",
       "      <td>0.001880</td>\n",
       "    </tr>\n",
       "    <tr>\n",
       "      <th>AHMC Seton Medical Center</th>\n",
       "      <td>394</td>\n",
       "      <td>2</td>\n",
       "      <td>2.16</td>\n",
       "      <td>0.005076</td>\n",
       "    </tr>\n",
       "    <tr>\n",
       "      <th>Adventist Health Clearlake</th>\n",
       "      <td>138</td>\n",
       "      <td>0</td>\n",
       "      <td>0.64</td>\n",
       "      <td>0.000000</td>\n",
       "    </tr>\n",
       "    <tr>\n",
       "      <th>Adventist Health Mendocino Coast</th>\n",
       "      <td>72</td>\n",
       "      <td>0</td>\n",
       "      <td>0.49</td>\n",
       "      <td>0.000000</td>\n",
       "    </tr>\n",
       "    <tr>\n",
       "      <th>Adventist Health Simi Valley</th>\n",
       "      <td>524</td>\n",
       "      <td>0</td>\n",
       "      <td>2.60</td>\n",
       "      <td>0.000000</td>\n",
       "    </tr>\n",
       "  </tbody>\n",
       "</table>\n",
       "</div>"
      ],
      "text/plain": [
       "                                      Procedure_Count  Infections_Reported  \\\n",
       "Facility_Name                                                                \n",
       "AHMC Anaheim Regional Medical Center             1064                    2   \n",
       "AHMC Seton Medical Center                         394                    2   \n",
       "Adventist Health Clearlake                        138                    0   \n",
       "Adventist Health Mendocino Coast                   72                    0   \n",
       "Adventist Health Simi Valley                      524                    0   \n",
       "\n",
       "                                      Infections_Predicted  infection_ratio  \n",
       "Facility_Name                                                                \n",
       "AHMC Anaheim Regional Medical Center                  4.64         0.001880  \n",
       "AHMC Seton Medical Center                             2.16         0.005076  \n",
       "Adventist Health Clearlake                            0.64         0.000000  \n",
       "Adventist Health Mendocino Coast                      0.49         0.000000  \n",
       "Adventist Health Simi Valley                          2.60         0.000000  "
      ]
     },
     "execution_count": 48,
     "metadata": {},
     "output_type": "execute_result"
    }
   ],
   "source": [
    "facilities.head()"
   ]
  },
  {
   "cell_type": "code",
   "execution_count": 44,
   "metadata": {},
   "outputs": [],
   "source": [
    "counties=df.groupby(['County'])[['Procedure_Count','Infections_Reported','Infections_Predicted']].sum()"
   ]
  },
  {
   "cell_type": "code",
   "execution_count": 45,
   "metadata": {},
   "outputs": [
    {
     "data": {
      "text/html": [
       "<div>\n",
       "<style scoped>\n",
       "    .dataframe tbody tr th:only-of-type {\n",
       "        vertical-align: middle;\n",
       "    }\n",
       "\n",
       "    .dataframe tbody tr th {\n",
       "        vertical-align: top;\n",
       "    }\n",
       "\n",
       "    .dataframe thead th {\n",
       "        text-align: right;\n",
       "    }\n",
       "</style>\n",
       "<table border=\"1\" class=\"dataframe\">\n",
       "  <thead>\n",
       "    <tr style=\"text-align: right;\">\n",
       "      <th></th>\n",
       "      <th>Procedure_Count</th>\n",
       "      <th>Infections_Reported</th>\n",
       "      <th>Infections_Predicted</th>\n",
       "    </tr>\n",
       "    <tr>\n",
       "      <th>County</th>\n",
       "      <th></th>\n",
       "      <th></th>\n",
       "      <th></th>\n",
       "    </tr>\n",
       "  </thead>\n",
       "  <tbody>\n",
       "    <tr>\n",
       "      <th>Alameda</th>\n",
       "      <td>18052</td>\n",
       "      <td>98</td>\n",
       "      <td>109.01</td>\n",
       "    </tr>\n",
       "    <tr>\n",
       "      <th>Amador</th>\n",
       "      <td>428</td>\n",
       "      <td>0</td>\n",
       "      <td>2.59</td>\n",
       "    </tr>\n",
       "    <tr>\n",
       "      <th>Butte</th>\n",
       "      <td>4382</td>\n",
       "      <td>12</td>\n",
       "      <td>22.11</td>\n",
       "    </tr>\n",
       "    <tr>\n",
       "      <th>Calaveras</th>\n",
       "      <td>32</td>\n",
       "      <td>0</td>\n",
       "      <td>0.15</td>\n",
       "    </tr>\n",
       "    <tr>\n",
       "      <th>Contra Costa</th>\n",
       "      <td>13726</td>\n",
       "      <td>94</td>\n",
       "      <td>92.87</td>\n",
       "    </tr>\n",
       "  </tbody>\n",
       "</table>\n",
       "</div>"
      ],
      "text/plain": [
       "              Procedure_Count  Infections_Reported  Infections_Predicted\n",
       "County                                                                  \n",
       "Alameda                 18052                   98                109.01\n",
       "Amador                    428                    0                  2.59\n",
       "Butte                    4382                   12                 22.11\n",
       "Calaveras                  32                    0                  0.15\n",
       "Contra Costa            13726                   94                 92.87"
      ]
     },
     "execution_count": 45,
     "metadata": {},
     "output_type": "execute_result"
    }
   ],
   "source": [
    "counties.head()"
   ]
  },
  {
   "cell_type": "code",
   "execution_count": 49,
   "metadata": {},
   "outputs": [],
   "source": [
    "counties['infection_ratio']=counties['Infections_Reported']/counties['Procedure_Count']"
   ]
  },
  {
   "cell_type": "code",
   "execution_count": 50,
   "metadata": {},
   "outputs": [
    {
     "data": {
      "text/html": [
       "<div>\n",
       "<style scoped>\n",
       "    .dataframe tbody tr th:only-of-type {\n",
       "        vertical-align: middle;\n",
       "    }\n",
       "\n",
       "    .dataframe tbody tr th {\n",
       "        vertical-align: top;\n",
       "    }\n",
       "\n",
       "    .dataframe thead th {\n",
       "        text-align: right;\n",
       "    }\n",
       "</style>\n",
       "<table border=\"1\" class=\"dataframe\">\n",
       "  <thead>\n",
       "    <tr style=\"text-align: right;\">\n",
       "      <th></th>\n",
       "      <th>Procedure_Count</th>\n",
       "      <th>Infections_Reported</th>\n",
       "      <th>Infections_Predicted</th>\n",
       "      <th>infection_ratio</th>\n",
       "    </tr>\n",
       "    <tr>\n",
       "      <th>County</th>\n",
       "      <th></th>\n",
       "      <th></th>\n",
       "      <th></th>\n",
       "      <th></th>\n",
       "    </tr>\n",
       "  </thead>\n",
       "  <tbody>\n",
       "    <tr>\n",
       "      <th>Alameda</th>\n",
       "      <td>18052</td>\n",
       "      <td>98</td>\n",
       "      <td>109.01</td>\n",
       "      <td>0.005429</td>\n",
       "    </tr>\n",
       "    <tr>\n",
       "      <th>Amador</th>\n",
       "      <td>428</td>\n",
       "      <td>0</td>\n",
       "      <td>2.59</td>\n",
       "      <td>0.000000</td>\n",
       "    </tr>\n",
       "    <tr>\n",
       "      <th>Butte</th>\n",
       "      <td>4382</td>\n",
       "      <td>12</td>\n",
       "      <td>22.11</td>\n",
       "      <td>0.002738</td>\n",
       "    </tr>\n",
       "    <tr>\n",
       "      <th>Calaveras</th>\n",
       "      <td>32</td>\n",
       "      <td>0</td>\n",
       "      <td>0.15</td>\n",
       "      <td>0.000000</td>\n",
       "    </tr>\n",
       "    <tr>\n",
       "      <th>Contra Costa</th>\n",
       "      <td>13726</td>\n",
       "      <td>94</td>\n",
       "      <td>92.87</td>\n",
       "      <td>0.006848</td>\n",
       "    </tr>\n",
       "  </tbody>\n",
       "</table>\n",
       "</div>"
      ],
      "text/plain": [
       "              Procedure_Count  Infections_Reported  Infections_Predicted  \\\n",
       "County                                                                     \n",
       "Alameda                 18052                   98                109.01   \n",
       "Amador                    428                    0                  2.59   \n",
       "Butte                    4382                   12                 22.11   \n",
       "Calaveras                  32                    0                  0.15   \n",
       "Contra Costa            13726                   94                 92.87   \n",
       "\n",
       "              infection_ratio  \n",
       "County                         \n",
       "Alameda              0.005429  \n",
       "Amador               0.000000  \n",
       "Butte                0.002738  \n",
       "Calaveras            0.000000  \n",
       "Contra Costa         0.006848  "
      ]
     },
     "execution_count": 50,
     "metadata": {},
     "output_type": "execute_result"
    }
   ],
   "source": [
    "counties.head()"
   ]
  },
  {
   "cell_type": "code",
   "execution_count": 25,
   "metadata": {},
   "outputs": [],
   "source": [
    "df2['County']='Alameda'"
   ]
  },
  {
   "cell_type": "code",
   "execution_count": 8,
   "metadata": {
    "colab": {
     "base_uri": "https://localhost:8080/"
    },
    "id": "lOwEydCfbYhq",
    "outputId": "00cdeced-ac0b-464d-ea2a-7226c7c66c90"
   },
   "outputs": [
    {
     "data": {
      "text/plain": [
       "[Int64Index([  29,   30,   31,   32,   33,   34,   35,   36,   37,   38,\n",
       "             ...\n",
       "             5725, 5726, 5727, 5728, 5729, 5730, 5731, 5732, 5733, 5734],\n",
       "            dtype='int64', length=5706),\n",
       " Index(['Year', 'State', 'County', 'HAI', 'Operative_Procedure', 'Facility_ID',\n",
       "        'Facility_Name', 'Hospital_Category_RiskAdjustment', 'Facility_Type',\n",
       "        'Procedure_Count', 'Infections_Reported', 'Infections_Predicted'],\n",
       "       dtype='object')]"
      ]
     },
     "execution_count": 8,
     "metadata": {},
     "output_type": "execute_result"
    }
   ],
   "source": [
    "df.axes"
   ]
  },
  {
   "cell_type": "code",
   "execution_count": 9,
   "metadata": {
    "id": "WhMtS6EnaNH-"
   },
   "outputs": [],
   "source": [
    "df=df.dropna(subset=['Facility_Name'])"
   ]
  },
  {
   "cell_type": "code",
   "execution_count": 10,
   "metadata": {
    "colab": {
     "base_uri": "https://localhost:8080/"
    },
    "id": "La1CBcF1aTEQ",
    "outputId": "020997b4-97d2-4f18-ffe3-f62f5184f8d5"
   },
   "outputs": [
    {
     "data": {
      "text/plain": [
       "array(['Methodist Hospital of Sacramento', 'Sutter Amador Hospital',\n",
       "       'Sutter Auburn Faith Hospital',\n",
       "       'University of California Davis Medical Center',\n",
       "       'Barton Memorial Hospital', 'Dameron Hospital',\n",
       "       'Doctors Hospital of Manteca', 'Mark Twain Medical Center',\n",
       "       'Marshall Medical Center', 'Doctors Medical Center',\n",
       "       'Memorial Medical Center', 'Mercy General Hospital',\n",
       "       'Emanuel Medical Center', 'Mercy San Juan Medical Center',\n",
       "       'Kaiser Foundation Hospital, Sacramento',\n",
       "       'Oak Valley Hospital District',\n",
       "       'Kaiser Foundation Hospital, South Sacramento',\n",
       "       'Sutter Roseville Medical Center', 'San Joaquin General Hospital',\n",
       "       'Sutter Tracy Community Hospital',\n",
       "       \"St. Joseph's Medical Center Of Stockton\",\n",
       "       'Woodland Memorial Hospital', 'Sutter Davis Hospital',\n",
       "       'Sutter Medical Center, Sacramento', 'Mercy Hospital of Folsom',\n",
       "       'Kaiser Foundation Hospital, Manteca',\n",
       "       'Kaiser Foundation Hospital, Roseville',\n",
       "       'Shriners Hospitals for Children Northern California',\n",
       "       'Stanislaus Surgical Hospital',\n",
       "       'Community Regional Medical Center', 'Memorial Hospital Los Banos',\n",
       "       'Madera Community Hospital', 'Mercy Medical Center',\n",
       "       'Saint Agnes Medical Center', \"Valley Children's Hospital\",\n",
       "       'Fresno Surgical Hospital', 'Kaiser Foundation Hospital, Fresno',\n",
       "       'Fresno Heart and Surgical Hospital',\n",
       "       'Marian Regional Medical Center, Arroyo Grande',\n",
       "       'Community Memorial Hospital, San Buenaventura',\n",
       "       'French Hospital Medical Center', 'Goleta Valley Cottage Hospital',\n",
       "       'Lompoc Valley Medical Center',\n",
       "       'Los Robles Hospital & Medical Center',\n",
       "       'Marian Regional Medical Center', 'Ojai Valley Community Hospital',\n",
       "       'St Johns Pleasant Valley Hospital',\n",
       "       'Sierra Vista Regional Medical Center',\n",
       "       'St Johns Regional Medical Center',\n",
       "       'Tenet Health Central Coast Twin Cities Community Hospital',\n",
       "       'Ventura County Medical Center', 'Santa Barbara Cottage Hospital',\n",
       "       'Adventist Health Simi Valley', 'Thousand Oaks Surgical Hospital',\n",
       "       'AHMC Anaheim Regional Medical Center',\n",
       "       'Chapman Global Medical Center',\n",
       "       \"Children's Hospital of Orange County\",\n",
       "       'Fountain Valley Regional Hospital and Medical Center',\n",
       "       'Foothill Regional Medical Center',\n",
       "       'Hoag Memorial Hospital Presbyterian', 'Huntington Beach Hospital',\n",
       "       'West Anaheim Medical Center', 'South Coast Global Medical Center',\n",
       "       'La Palma Intercommunity Hospital', 'Los Alamitos Medical Center',\n",
       "       'LAC/Harbor UCLA Medical Center',\n",
       "       'LAC/Rancho Los Amigos National Rehabilitation Center',\n",
       "       'Martin Luther King Jr. Community Hospital',\n",
       "       'LAC/Olive View UCLA Medical Center', 'LAC+USC Medical Center',\n",
       "       'Garden Grove Hospital and Medical Center',\n",
       "       'Providence Mission Hospital', 'Placentia Linda Hospital',\n",
       "       'MemorialCare Saddleback Medical Center',\n",
       "       'Providence Mission Hospital - Laguna Beach',\n",
       "       'Providence St. Joseph Hospital, Orange',\n",
       "       'Providence St. Jude Medical Center',\n",
       "       'University of California Irvine Medical Center',\n",
       "       'Orange County Global Medical Center',\n",
       "       'Anaheim Global Medical Center',\n",
       "       'MemorialCare Orange Coast Medical Center', 'Hoag Hospital Irvine',\n",
       "       'Regional Medical Center of San Jose',\n",
       "       'El Camino Health Los Gatos',\n",
       "       'Community Hospital of The Monterey Peninsula',\n",
       "       'Dominican Hospital', 'George L. Mee Memorial Hospital',\n",
       "       'Hazel Hawkins Memorial Hospital', 'Natividad Medical Center',\n",
       "       \"O'Connor Hospital\", 'Salinas Valley Memorial Hospital',\n",
       "       'Santa Clara Valley Medical Center',\n",
       "       'Kaiser Foundation Hospital, San Jose',\n",
       "       'Good Samaritan Hospital, San Jose',\n",
       "       'Watsonville Community Hospital', 'St. Louise Regional Hospital',\n",
       "       'Sutter Maternity & Surgery Center of Santa Cruz',\n",
       "       \"Lucile Packard Children's Hospital Stanford\", 'El Camino Health',\n",
       "       'Kaiser Foundation Hospital, Santa Clara', 'Stanford Health Care',\n",
       "       'Scripps Green Hospital', \"Rady Children's Hospital, San Diego\",\n",
       "       'Sharp Memorial Hospital', 'Grossmont Hospital',\n",
       "       'Kaiser Foundation Hospital, Zion', 'Palomar Medical Center Poway',\n",
       "       'Scripps Memorial Hospital, La Jolla',\n",
       "       'Scripps Memorial Hospital, Encinitas', 'Tri-City Medical Center',\n",
       "       'Sharp Mary Birch Hospital For Women And Newborns',\n",
       "       'Scripps Mercy Hospital Chula Vista',\n",
       "       'Sharp Chula Vista Medical Center', 'Scripps Mercy Hospital',\n",
       "       'Sharp Coronado Hospital and Healthcare Center',\n",
       "       'El Centro Regional Medical Center', 'Paradise Valley Hospital',\n",
       "       'UC San Diego Health Hillcrest', 'UC San Diego Health La Jolla',\n",
       "       'Sutter Santa Rosa Regional Hospital', 'Healdsburg Hospital',\n",
       "       'Northbay Medical Center',\n",
       "       'Kaiser Foundation Hospital and Rehab Center, Vallejo',\n",
       "       'Sutter Lakeside Hospital', 'Mad River Community Hospital',\n",
       "       'Adventist Health Mendocino Coast', 'Petaluma Valley Hospital',\n",
       "       'Providence Queen of the Valley Medical Center',\n",
       "       'Adventist Health Clearlake',\n",
       "       'Providence Redwood Memorial Hospital', 'Sutter Coast Hospital',\n",
       "       'Sonoma Valley Hospital', 'Providence St. Joseph Hospital, Eureka',\n",
       "       'Sutter Solano Medical Center', 'Northbay Vacavalley Hospital',\n",
       "       'Kaiser Foundation Hospital, Santa Rosa',\n",
       "       'Kaiser Foundation Hospital, San Rafael',\n",
       "       'MarinHealth Medical Center', 'Novato Community Hospital',\n",
       "       'Bakersfield Memorial Hospital', 'Kern Medical Center',\n",
       "       'Kern Valley Healthcare District', 'Mercy Hospital',\n",
       "       'Ridgecrest Regional Hospital', 'Mercy Southwest Hospital',\n",
       "       'Bakersfield Heart Hospital', 'Sierra View Medical Center',\n",
       "       'Alameda Hospital',\n",
       "       'Alta Bates Summit Medical Center, Alta Bates Campus',\n",
       "       \"UCSF Benioff Children's Hospital Oakland\",\n",
       "       'Sutter Delta Medical Center', 'Highland Hospital',\n",
       "       'St Rose Hospital', 'Washington Hospital', 'Eden Medical Center',\n",
       "       'John Muir Medical Center, Walnut Creek Campus',\n",
       "       'Kaiser Foundation Hospital, Oakland/Richmond',\n",
       "       'Kaiser Foundation Hospital, Walnut Creek',\n",
       "       'Kaiser Foundation Hospital, Richmond Campus',\n",
       "       'Contra Costa Regional Medical Center',\n",
       "       'John Muir Medical Center, Concord Campus',\n",
       "       'Alta Bates Summit Medical Center',\n",
       "       'San Ramon Regional Medical Center',\n",
       "       'Stanford Health Care - ValleyCare',\n",
       "       'Kaiser Foundation Hospital, Fremont',\n",
       "       'Providence Santa Rosa Memorial Hospital', 'Chinese Hospital',\n",
       "       'San Mateo Medical Center',\n",
       "       'Kaiser Foundation Hospital, San Francisco',\n",
       "       'Kaiser Foundation Hospital, South San Francisco',\n",
       "       'Kaiser Foundation Hospital, Redwood City',\n",
       "       'Mills-Peninsula Medical Center',\n",
       "       'California Pacific Medical Center, Mission Bernal Campus',\n",
       "       'Zuckerberg San Francisco General Hospital and Trauma Center',\n",
       "       'California Pacific Medical Center, Van Ness Campus',\n",
       "       'California Pacific Medical Center, Davies Campus Hospital',\n",
       "       'Sequoia Hospital', 'AHMC Seton Medical Center',\n",
       "       'Saint Francis Memorial Hospital', \"St. Mary's Medical Center\",\n",
       "       'UCSF Medical Center', 'Menlo Park Surgical Hospital',\n",
       "       'Banner Lassen Medical Center', 'Mayers Memorial Hospital',\n",
       "       'Mercy Medical Center Redding', 'Mercy Medical Center Mt. Shasta',\n",
       "       'Enloe Medical Center, Esplanade', 'Oroville Hospital',\n",
       "       'Plumas District Hospital', 'Shasta Regional Medical Center',\n",
       "       'Fairchild Medical Center', 'St. Elizabeth Community Hospital',\n",
       "       'Adventist Health and Rideout', 'Sierra Nevada Memorial Hospital',\n",
       "       'Tahoe Forest Hospital', \"Patients' Hospital of Redding\",\n",
       "       'Barstow Community Hospital', 'Chino Valley Medical Center',\n",
       "       'Mammoth Hospital', 'Montclair Hospital Medical Center',\n",
       "       'Hi-Desert Medical Center', 'Kaiser Foundation Hospital, Fontana',\n",
       "       'Loma Linda University Medical Center East Campus Hospital',\n",
       "       'Loma Linda University Medical Center',\n",
       "       'Colorado River Medical Center', 'Northern Inyo Hospital',\n",
       "       'Redlands Community Hospital', 'San Antonio Regional Hospital',\n",
       "       'Victor Valley Global Medical Center',\n",
       "       'Community Hospital of San Bernardino',\n",
       "       'Arrowhead Regional Medical Center',\n",
       "       'St. Bernardine Medical Center',\n",
       "       'Providence St. Mary Medical Center, Apple Valley',\n",
       "       'Desert Valley Hospital', 'Corona Regional Medical Center',\n",
       "       'Desert Regional Medical Center', 'Eisenhower Medical Center',\n",
       "       'Hemet Global Medical Center', 'John F. Kennedy Memorial Hospital',\n",
       "       'Palo Verde Hospital', 'Doctors Hospital of Riverside',\n",
       "       'Riverside Community Hospital',\n",
       "       'Riverside University Health System - Medical Center',\n",
       "       'San Gorgonio Memorial Hospital',\n",
       "       'Southwest Healthcare System, Wildomar',\n",
       "       'Southwest Healthcare System, Murrieta',\n",
       "       'Kaiser Foundation Hospital, Riverside',\n",
       "       'Menifee Global Medical Center',\n",
       "       'Ventura County Medical Center, Santa Paula Hospital',\n",
       "       'Kaiser Foundation Hospital, Antioch',\n",
       "       'Kaiser Foundation Hospital, Modesto',\n",
       "       'Kaiser Foundation Hospital, Orange County, Irvine',\n",
       "       'Sutter Surgical Hospital, North Valley',\n",
       "       'Kaiser Foundation Hospital, Moreno Valley',\n",
       "       'Loma Linda University Surgical Hospital',\n",
       "       'Kaiser Foundation Hospital, Vacaville',\n",
       "       'Hoag Orthopedic Institute',\n",
       "       'Loma Linda University Medical Center, Murrieta',\n",
       "       'Kaiser Foundation Hospital, Ontario', 'Palomar Medical Center',\n",
       "       'San Leandro Hospital',\n",
       "       'Kaiser Foundation Hospital, Orange County, Anaheim',\n",
       "       'Temecula Valley Hospital',\n",
       "       'Kaiser Foundation Hospital, San Leandro',\n",
       "       \"Loma Linda University Children's Hospital\",\n",
       "       'UCSF Medical Center at Mission Bay',\n",
       "       'Kaiser Foundation Hospital, San Diego',\n",
       "       'California Hospital Medical Center, Los Angeles',\n",
       "       'Alhambra Hospital Medical Center', 'Antelope Valley Hospital',\n",
       "       'Beverly Hospital', 'Southern California Hospital at Culver City',\n",
       "       'Casa Colina Hospital', 'Centinela Hospital Medical Center',\n",
       "       'Huntington Hospital', 'Mission Community Hospital',\n",
       "       'West Hills Hospital & Medical Center',\n",
       "       \"Children's Hospital Los Angeles\", 'L.A. Downtown Medical Center',\n",
       "       'City of Hope Helford Clinical Research Hospital',\n",
       "       'Coast Plaza Hospital', 'Community Hospital of Huntington Park',\n",
       "       'San Gabriel Valley Medical Center',\n",
       "       'Cedars-Sinai Marina Del Rey Hospital',\n",
       "       'Lakewood Regional Medical Center',\n",
       "       'Santa Monica - UCLA Medical Center and Orthopaedic Hospital',\n",
       "       'Kaiser Foundation Hospital, Panorama City',\n",
       "       'PIH Health Hospital, Downey', 'East Los Angeles Doctors Hospital',\n",
       "       'Emanate Health Foothill Presbyterian Hospital',\n",
       "       'Garfield Medical Center', 'Greater El Monte Community Hospital',\n",
       "       'Henry Mayo Newhall Hospital',\n",
       "       'Hollywood Presbyterian Medical Center',\n",
       "       'Providence Holy Cross Medical Center',\n",
       "       'Good Samaritan Hospital, Los Angeles',\n",
       "       'Emanate Health Inter-Community Hospital',\n",
       "       'Kaiser Foundation Hospital, South Bay',\n",
       "       'Kaiser Foundation Hospital, Los Angeles',\n",
       "       'Kaiser Foundation Hospital, Downey',\n",
       "       'Kaiser Foundation Hospital, West LA',\n",
       "       'Palmdale Regional Medical Center',\n",
       "       'Providence Little Company of Mary Medical Center Torrance',\n",
       "       'Los Angeles Community Hospital',\n",
       "       'Providence Cedars-Sinai Tarzana Medical Center',\n",
       "       'Memorial Hospital of Gardena',\n",
       "       'Glendale Memorial Hospital and Health Center',\n",
       "       'MemorialCare Long Beach Medical Center',\n",
       "       'Methodist Hospital of Southern California',\n",
       "       'PIH Health Hospital, Whittier',\n",
       "       \"Providence Saint John's Health Center\",\n",
       "       'Providence Saint Joseph Medical Center',\n",
       "       'St. Mary Medical Center, Long Beach', 'Olympia Medical Center',\n",
       "       'Monterey Park Hospital', 'Northridge Hospital Medical Center',\n",
       "       'Norwalk Community Hospital', 'College Medical Center',\n",
       "       'Pomona Valley Hospital Medical Center',\n",
       "       'San Dimas Community Hospital', 'Torrance Memorial Medical Center',\n",
       "       'St. Francis Medical Center', 'Valley Presbyterian Hospital',\n",
       "       'Emanate Health Queen of the Valley Hospital',\n",
       "       'Pacifica Hospital of the Valley',\n",
       "       'Providence Little Company of Mary Medical Center San Pedro',\n",
       "       'DOCS Surgical Hospital', 'Ronald Reagan UCLA Medical Center',\n",
       "       'USC Kenneth Norris Jr. Cancer Hospital',\n",
       "       'USC Verdugo Hills Hospital', 'West Covina Medical Center',\n",
       "       'Kaiser Foundation Hospital, Woodland Hills',\n",
       "       'Keck Hospital of USC', 'Kaiser Foundation Hospital, Baldwin Park',\n",
       "       \"MemorialCare Miller Children's & Women's Hospital Long Beach\"],\n",
       "      dtype=object)"
      ]
     },
     "execution_count": 10,
     "metadata": {},
     "output_type": "execute_result"
    }
   ],
   "source": [
    "df['Facility_Name'].unique()"
   ]
  },
  {
   "cell_type": "code",
   "execution_count": 12,
   "metadata": {},
   "outputs": [
    {
     "name": "stdout",
     "output_type": "stream",
     "text": [
      "Collecting geopy\n",
      "  Downloading geopy-2.2.0-py3-none-any.whl (118 kB)\n",
      "Collecting geographiclib<2,>=1.49\n",
      "  Downloading geographiclib-1.52-py3-none-any.whl (38 kB)\n",
      "Installing collected packages: geographiclib, geopy\n",
      "Successfully installed geographiclib-1.52 geopy-2.2.0\n"
     ]
    }
   ],
   "source": [
    "!pip install geopy"
   ]
  },
  {
   "cell_type": "code",
   "execution_count": 13,
   "metadata": {
    "id": "gFMlwuarFA9v"
   },
   "outputs": [],
   "source": [
    "from geopy.geocoders import Nominatim"
   ]
  },
  {
   "cell_type": "code",
   "execution_count": 14,
   "metadata": {
    "colab": {
     "base_uri": "https://localhost:8080/",
     "height": 35
    },
    "id": "VJVXdxlwFG9O",
    "outputId": "b882d9cc-8690-4753-818f-99f855d93903"
   },
   "outputs": [
    {
     "data": {
      "text/plain": [
       "'Methodist Hospital of Sacramento'"
      ]
     },
     "execution_count": 14,
     "metadata": {},
     "output_type": "execute_result"
    }
   ],
   "source": [
    "df['Facility_Name'].unique()[0]"
   ]
  },
  {
   "cell_type": "code",
   "execution_count": 15,
   "metadata": {
    "id": "DIlLJSoOFCg7"
   },
   "outputs": [],
   "source": [
    "geolocator = Nominatim(user_agent=\"myGeolocator\")\n",
    "location = geolocator.geocode(df['Facility_Name'].unique()[0])"
   ]
  },
  {
   "cell_type": "code",
   "execution_count": null,
   "metadata": {
    "colab": {
     "base_uri": "https://localhost:8080/"
    },
    "id": "7xDW1vZHFOt6",
    "outputId": "1a739fb1-be60-4368-e964-7562991424d7"
   },
   "outputs": [
    {
     "data": {
      "text/plain": [
       "{'boundingbox': ['38.4616121', '38.4641533', '-121.4178193', '-121.4149091'],\n",
       " 'class': 'amenity',\n",
       " 'display_name': 'Methodist Hospital of Sacramento, 7500, Hospital Drive, Sacramento, Sacramento County, California, 95823, United States',\n",
       " 'icon': 'https://nominatim.openstreetmap.org/ui/mapicons//health_hospital.p.20.png',\n",
       " 'importance': 0.563150759043076,\n",
       " 'lat': '38.463021299999994',\n",
       " 'licence': 'Data © OpenStreetMap contributors, ODbL 1.0. https://osm.org/copyright',\n",
       " 'lon': '-121.41634890895006',\n",
       " 'osm_id': 578107842,\n",
       " 'osm_type': 'way',\n",
       " 'place_id': 211953903,\n",
       " 'type': 'hospital'}"
      ]
     },
     "execution_count": 81,
     "metadata": {},
     "output_type": "execute_result"
    }
   ],
   "source": [
    "location.raw"
   ]
  },
  {
   "cell_type": "code",
   "execution_count": 16,
   "metadata": {
    "colab": {
     "base_uri": "https://localhost:8080/"
    },
    "id": "eJdAtlNncIk2",
    "outputId": "0a3569ad-47ec-4806-8ea4-d31b9b46360d"
   },
   "outputs": [
    {
     "data": {
      "text/plain": [
       "array(['All procedures', 'Appendix surgery',\n",
       "       'Bile duct, liver or pancreatic surgery', 'Cesarean section',\n",
       "       'Colon surgery', 'Exploratory abdominal surgery (laparotomy)',\n",
       "       'Gallbladder surgery', 'Gastric surgery', 'Hip prosthesis',\n",
       "       'Hysterectomy, abdominal', 'Hysterectomy, vaginal',\n",
       "       'Kidney surgery', 'Knee prosthesis', 'Open reduction of fracture',\n",
       "       'Ovarian surgery', 'Rectal surgery', 'Small bowel surgery',\n",
       "       'Thoracic surgery', 'Abdominal aortic aneurysm repair',\n",
       "       'Cardiac surgery', 'Coronary bypass,chest and donor incisions',\n",
       "       'Coronary bypass,chest incision only', 'Kidney transplant',\n",
       "       'Laminectomy', 'Pacemaker surgery', 'Spinal fusion',\n",
       "       'Spleen surgery', 'Heart transplant', 'Liver transplant'],\n",
       "      dtype=object)"
      ]
     },
     "execution_count": 16,
     "metadata": {},
     "output_type": "execute_result"
    }
   ],
   "source": [
    "df['Operative_Procedure'].unique()"
   ]
  },
  {
   "cell_type": "code",
   "execution_count": 17,
   "metadata": {
    "colab": {
     "base_uri": "https://localhost:8080/"
    },
    "id": "ot8pH3uO6E5Z",
    "outputId": "cb2f92ba-af88-4aff-d8ab-b818dd1dd71e"
   },
   "outputs": [
    {
     "data": {
      "text/plain": [
       "(29,)"
      ]
     },
     "execution_count": 17,
     "metadata": {},
     "output_type": "execute_result"
    }
   ],
   "source": [
    "df['Operative_Procedure'].unique().shape"
   ]
  },
  {
   "cell_type": "code",
   "execution_count": null,
   "metadata": {
    "id": "UVWSgk6P5Sip"
   },
   "outputs": [],
   "source": [
    "# distribution of all columns\n",
    "def plotPerColumnDistribution(df, nGraphShown, nGraphPerRow):\n",
    "    nunique = df.nunique()\n",
    "    df = df[[col for col in df if nunique[col] > 1 and nunique[col] < 50]] # For displaying purposes, pick columns that have between 1 and 50 unique values\n",
    "    nRow, nCol = df.shape\n",
    "    columnNames = list(df)\n",
    "    nGraphRow = (nCol + nGraphPerRow - 1) / nGraphPerRow\n",
    "    plt.figure(num = None, figsize = (6 * nGraphPerRow, 8 * nGraphRow), dpi = 80, facecolor = 'w', edgecolor = 'k')\n",
    "    for i in range(min(nCol, nGraphShown)):\n",
    "        plt.subplot(nGraphRow, nGraphPerRow, i + 1)\n",
    "        columnDf = df.iloc[:, i]\n",
    "        if (not np.issubdtype(type(columnDf.iloc[0]), np.number)):\n",
    "            valueCounts = columnDf.value_counts()\n",
    "            valueCounts.plot.bar()\n",
    "        else:\n",
    "            columnDf.hist()\n",
    "        plt.ylabel('counts')\n",
    "        plt.xticks(rotation = 90)\n",
    "        plt.title(f'{columnNames[i]} (column {i})')\n",
    "    plt.tight_layout(pad = 1.0, w_pad = 1.0, h_pad = 1.0)\n",
    "    plt.show()\n",
    "plotPerColumnDistribution(df, 10, 5)\n"
   ]
  },
  {
   "cell_type": "code",
   "execution_count": null,
   "metadata": {
    "colab": {
     "base_uri": "https://localhost:8080/",
     "height": 469
    },
    "id": "dxQsIT1_5vRH",
    "outputId": "4d4ba638-5cd2-412c-9e8c-1d77d9833f5c"
   },
   "outputs": [
    {
     "data": {
      "image/png": "[encoded data removed]",
      "text/plain": [
       "<Figure size 2400x1152 with 5 Axes>"
      ]
     },
     "metadata": {},
     "output_type": "display_data"
    }
   ],
   "source": [
    "plotPerColumnDistribution(df, 10, 5)\n"
   ]
  },
  {
   "cell_type": "code",
   "execution_count": null,
   "metadata": {},
   "outputs": [],
   "source": [
    "!conda install geopandas"
   ]
  },
  {
   "cell_type": "code",
   "execution_count": 51,
   "metadata": {},
   "outputs": [
    {
     "ename": "ModuleNotFoundError",
     "evalue": "No module named 'geopandas'",
     "output_type": "error",
     "traceback": [
      "\u001b[1;31m---------------------------------------------------------------------------\u001b[0m",
      "\u001b[1;31mModuleNotFoundError\u001b[0m                       Traceback (most recent call last)",
      "\u001b[1;32m<ipython-input-51-982ae62d2321>\u001b[0m in \u001b[0;36m<module>\u001b[1;34m\u001b[0m\n\u001b[1;32m----> 1\u001b[1;33m \u001b[1;32mimport\u001b[0m \u001b[0mgeopandas\u001b[0m \u001b[1;32mas\u001b[0m \u001b[0mgpd\u001b[0m\u001b[1;33m\u001b[0m\u001b[1;33m\u001b[0m\u001b[0m\n\u001b[0m\u001b[0;32m      2\u001b[0m \u001b[1;32mimport\u001b[0m \u001b[0mgeoplot\u001b[0m \u001b[1;32mas\u001b[0m \u001b[0mgplt\u001b[0m\u001b[1;33m\u001b[0m\u001b[1;33m\u001b[0m\u001b[0m\n\u001b[0;32m      3\u001b[0m \u001b[1;33m\u001b[0m\u001b[0m\n\u001b[0;32m      4\u001b[0m \u001b[1;31m# Load the json file with county coordinates\u001b[0m\u001b[1;33m\u001b[0m\u001b[1;33m\u001b[0m\u001b[1;33m\u001b[0m\u001b[0m\n\u001b[0;32m      5\u001b[0m \u001b[0mgeoData\u001b[0m \u001b[1;33m=\u001b[0m \u001b[0mgpd\u001b[0m\u001b[1;33m.\u001b[0m\u001b[0mread_file\u001b[0m\u001b[1;33m(\u001b[0m\u001b[1;34m'https://raw.githubusercontent.com/holtzy/The-Python-Graph-Gallery/master/static/data/US-counties.geojson'\u001b[0m\u001b[1;33m)\u001b[0m\u001b[1;33m\u001b[0m\u001b[1;33m\u001b[0m\u001b[0m\n",
      "\u001b[1;31mModuleNotFoundError\u001b[0m: No module named 'geopandas'"
     ]
    }
   ],
   "source": [
    "import geopandas as gpd\n",
    "import geoplot as gplt\n",
    "\n",
    "# Load the json file with county coordinates\n",
    "geoData = gpd.read_file('https://raw.githubusercontent.com/holtzy/The-Python-Graph-Gallery/master/static/data/US-counties.geojson')\n",
    "\n",
    "# Make sure the \"id\" column is an integer\n",
    "geoData.id = geoData.id.astype(str).astype(int)\n",
    "\n",
    "# Remove Alaska, Hawaii and Puerto Rico.\n",
    "stateToRemove = ['02', '15', '72']\n",
    "geoData = geoData[~geoData.STATE.isin(stateToRemove)]\n",
    "\n",
    "# Basic plot with just county outlines\n",
    "gplt.polyplot(geoData, figsize=(20, 4));"
   ]
  },
  {
   "cell_type": "code",
   "execution_count": null,
   "metadata": {},
   "outputs": [],
   "source": []
  }
 ],
 "metadata": {
  "colab": {
   "collapsed_sections": [],
   "name": "California_SSI.ipynb",
   "provenance": []
  },
  "kernelspec": {
   "display_name": "Python 3",
   "language": "python",
   "name": "python3"
  },
  "language_info": {
   "codemirror_mode": {
    "name": "ipython",
    "version": 3
   },
   "file_extension": ".py",
   "mimetype": "text/x-python",
   "name": "python",
   "nbconvert_exporter": "python",
   "pygments_lexer": "ipython3",
   "version": "3.8.8"
  }
 },
 "nbformat": 4,
 "nbformat_minor": 1
}
